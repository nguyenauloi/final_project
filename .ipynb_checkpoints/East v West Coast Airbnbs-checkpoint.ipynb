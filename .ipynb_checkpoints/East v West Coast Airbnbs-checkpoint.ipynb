{
 "cells": [
  {
   "cell_type": "code",
   "execution_count": 1,
   "id": "c50aa451",
   "metadata": {},
   "outputs": [],
   "source": [
    "import pandas as pd\n",
    "import numpy as np\n",
    "from path import Path\n",
    "import datetime as dt\n",
    "import calendar\n",
    "import matplotlib.pyplot as plt\n",
    "%matplotlib inline\n",
    "from dateutil.parser import parse\n",
    "import seaborn as sns\n",
    "from sklearn.ensemble import RandomForestRegressor\n",
    "from sklearn.model_selection import train_test_split"
   ]
  },
  {
   "cell_type": "code",
   "execution_count": 2,
   "id": "38f961cf",
   "metadata": {},
   "outputs": [],
   "source": [
    "import warnings\n",
    "warnings.filterwarnings('ignore')"
   ]
  },
  {
   "cell_type": "code",
   "execution_count": 3,
   "id": "4230b00a",
   "metadata": {},
   "outputs": [],
   "source": [
    "# Create path\n",
    "file_path = Path('resources/data/')\n",
    "\n",
    "# Import data\n",
    "bostonRev = pd.read_csv(f'{file_path}/boston_reviews.csv')\n",
    "bostonCal = pd.read_csv(f'{file_path}/boston_calendar.csv')\n",
    "bostonList = pd.read_csv(f'{file_path}/boston_listings.csv')\n",
    "\n",
    "seattleRev = pd.read_csv(f'{file_path}/seattle_reviews.csv')\n",
    "seattleCal = pd.read_csv(f'{file_path}/seattle_calendar.csv')\n",
    "seattleList = pd.read_csv(f'{file_path}/seattle_listings.csv')\n",
    "\n",
    "# Combine similar dataframes\n",
    "airbnbRev = pd.concat([bostonRev, seattleRev])\n",
    "airbnbCal = pd.concat([bostonCal, seattleCal])\n",
    "airbnbList = pd.concat([bostonList, seattleList])"
   ]
  },
  {
   "cell_type": "code",
   "execution_count": 4,
   "id": "39c16fe9",
   "metadata": {},
   "outputs": [
    {
     "data": {
      "text/html": [
       "<div>\n",
       "<style scoped>\n",
       "    .dataframe tbody tr th:only-of-type {\n",
       "        vertical-align: middle;\n",
       "    }\n",
       "\n",
       "    .dataframe tbody tr th {\n",
       "        vertical-align: top;\n",
       "    }\n",
       "\n",
       "    .dataframe thead th {\n",
       "        text-align: right;\n",
       "    }\n",
       "</style>\n",
       "<table border=\"1\" class=\"dataframe\">\n",
       "  <thead>\n",
       "    <tr style=\"text-align: right;\">\n",
       "      <th></th>\n",
       "      <th>listing_id</th>\n",
       "      <th>date</th>\n",
       "      <th>available</th>\n",
       "      <th>price</th>\n",
       "    </tr>\n",
       "  </thead>\n",
       "  <tbody>\n",
       "    <tr>\n",
       "      <th>0</th>\n",
       "      <td>12147973</td>\n",
       "      <td>2017-09-05</td>\n",
       "      <td>f</td>\n",
       "      <td>NaN</td>\n",
       "    </tr>\n",
       "    <tr>\n",
       "      <th>1</th>\n",
       "      <td>12147973</td>\n",
       "      <td>2017-09-04</td>\n",
       "      <td>f</td>\n",
       "      <td>NaN</td>\n",
       "    </tr>\n",
       "    <tr>\n",
       "      <th>2</th>\n",
       "      <td>12147973</td>\n",
       "      <td>2017-09-03</td>\n",
       "      <td>f</td>\n",
       "      <td>NaN</td>\n",
       "    </tr>\n",
       "    <tr>\n",
       "      <th>3</th>\n",
       "      <td>12147973</td>\n",
       "      <td>2017-09-02</td>\n",
       "      <td>f</td>\n",
       "      <td>NaN</td>\n",
       "    </tr>\n",
       "    <tr>\n",
       "      <th>4</th>\n",
       "      <td>12147973</td>\n",
       "      <td>2017-09-01</td>\n",
       "      <td>f</td>\n",
       "      <td>NaN</td>\n",
       "    </tr>\n",
       "  </tbody>\n",
       "</table>\n",
       "</div>"
      ],
      "text/plain": [
       "   listing_id        date available price\n",
       "0    12147973  2017-09-05         f   NaN\n",
       "1    12147973  2017-09-04         f   NaN\n",
       "2    12147973  2017-09-03         f   NaN\n",
       "3    12147973  2017-09-02         f   NaN\n",
       "4    12147973  2017-09-01         f   NaN"
      ]
     },
     "execution_count": 4,
     "metadata": {},
     "output_type": "execute_result"
    }
   ],
   "source": [
    "airbnbCal.head()"
   ]
  },
  {
   "cell_type": "code",
   "execution_count": 5,
   "id": "6946265b",
   "metadata": {},
   "outputs": [
    {
     "data": {
      "text/html": [
       "<div>\n",
       "<style scoped>\n",
       "    .dataframe tbody tr th:only-of-type {\n",
       "        vertical-align: middle;\n",
       "    }\n",
       "\n",
       "    .dataframe tbody tr th {\n",
       "        vertical-align: top;\n",
       "    }\n",
       "\n",
       "    .dataframe thead th {\n",
       "        text-align: right;\n",
       "    }\n",
       "</style>\n",
       "<table border=\"1\" class=\"dataframe\">\n",
       "  <thead>\n",
       "    <tr style=\"text-align: right;\">\n",
       "      <th></th>\n",
       "      <th>id</th>\n",
       "      <th>listing_url</th>\n",
       "      <th>scrape_id</th>\n",
       "      <th>last_scraped</th>\n",
       "      <th>name</th>\n",
       "      <th>summary</th>\n",
       "      <th>space</th>\n",
       "      <th>description</th>\n",
       "      <th>experiences_offered</th>\n",
       "      <th>neighborhood_overview</th>\n",
       "      <th>...</th>\n",
       "      <th>review_scores_value</th>\n",
       "      <th>requires_license</th>\n",
       "      <th>license</th>\n",
       "      <th>jurisdiction_names</th>\n",
       "      <th>instant_bookable</th>\n",
       "      <th>cancellation_policy</th>\n",
       "      <th>require_guest_profile_picture</th>\n",
       "      <th>require_guest_phone_verification</th>\n",
       "      <th>calculated_host_listings_count</th>\n",
       "      <th>reviews_per_month</th>\n",
       "    </tr>\n",
       "  </thead>\n",
       "  <tbody>\n",
       "    <tr>\n",
       "      <th>0</th>\n",
       "      <td>12147973</td>\n",
       "      <td>https://www.airbnb.com/rooms/12147973</td>\n",
       "      <td>20160906204935</td>\n",
       "      <td>2016-09-07</td>\n",
       "      <td>Sunny Bungalow in the City</td>\n",
       "      <td>Cozy, sunny, family home.  Master bedroom high...</td>\n",
       "      <td>The house has an open and cozy feel at the sam...</td>\n",
       "      <td>Cozy, sunny, family home.  Master bedroom high...</td>\n",
       "      <td>none</td>\n",
       "      <td>Roslindale is quiet, convenient and friendly. ...</td>\n",
       "      <td>...</td>\n",
       "      <td>NaN</td>\n",
       "      <td>f</td>\n",
       "      <td>NaN</td>\n",
       "      <td>NaN</td>\n",
       "      <td>f</td>\n",
       "      <td>moderate</td>\n",
       "      <td>f</td>\n",
       "      <td>f</td>\n",
       "      <td>1</td>\n",
       "      <td>NaN</td>\n",
       "    </tr>\n",
       "    <tr>\n",
       "      <th>1</th>\n",
       "      <td>3075044</td>\n",
       "      <td>https://www.airbnb.com/rooms/3075044</td>\n",
       "      <td>20160906204935</td>\n",
       "      <td>2016-09-07</td>\n",
       "      <td>Charming room in pet friendly apt</td>\n",
       "      <td>Charming and quiet room in a second floor 1910...</td>\n",
       "      <td>Small but cozy and quite room with a full size...</td>\n",
       "      <td>Charming and quiet room in a second floor 1910...</td>\n",
       "      <td>none</td>\n",
       "      <td>The room is in Roslindale, a diverse and prima...</td>\n",
       "      <td>...</td>\n",
       "      <td>9.0</td>\n",
       "      <td>f</td>\n",
       "      <td>NaN</td>\n",
       "      <td>NaN</td>\n",
       "      <td>t</td>\n",
       "      <td>moderate</td>\n",
       "      <td>f</td>\n",
       "      <td>f</td>\n",
       "      <td>1</td>\n",
       "      <td>1.30</td>\n",
       "    </tr>\n",
       "    <tr>\n",
       "      <th>2</th>\n",
       "      <td>6976</td>\n",
       "      <td>https://www.airbnb.com/rooms/6976</td>\n",
       "      <td>20160906204935</td>\n",
       "      <td>2016-09-07</td>\n",
       "      <td>Mexican Folk Art Haven in Boston</td>\n",
       "      <td>Come stay with a friendly, middle-aged guy in ...</td>\n",
       "      <td>Come stay with a friendly, middle-aged guy in ...</td>\n",
       "      <td>Come stay with a friendly, middle-aged guy in ...</td>\n",
       "      <td>none</td>\n",
       "      <td>The LOCATION: Roslindale is a safe and diverse...</td>\n",
       "      <td>...</td>\n",
       "      <td>10.0</td>\n",
       "      <td>f</td>\n",
       "      <td>NaN</td>\n",
       "      <td>NaN</td>\n",
       "      <td>f</td>\n",
       "      <td>moderate</td>\n",
       "      <td>t</td>\n",
       "      <td>f</td>\n",
       "      <td>1</td>\n",
       "      <td>0.47</td>\n",
       "    </tr>\n",
       "    <tr>\n",
       "      <th>3</th>\n",
       "      <td>1436513</td>\n",
       "      <td>https://www.airbnb.com/rooms/1436513</td>\n",
       "      <td>20160906204935</td>\n",
       "      <td>2016-09-07</td>\n",
       "      <td>Spacious Sunny Bedroom Suite in Historic Home</td>\n",
       "      <td>Come experience the comforts of home away from...</td>\n",
       "      <td>Most places you find in Boston are small howev...</td>\n",
       "      <td>Come experience the comforts of home away from...</td>\n",
       "      <td>none</td>\n",
       "      <td>Roslindale is a lovely little neighborhood loc...</td>\n",
       "      <td>...</td>\n",
       "      <td>10.0</td>\n",
       "      <td>f</td>\n",
       "      <td>NaN</td>\n",
       "      <td>NaN</td>\n",
       "      <td>f</td>\n",
       "      <td>moderate</td>\n",
       "      <td>f</td>\n",
       "      <td>f</td>\n",
       "      <td>1</td>\n",
       "      <td>1.00</td>\n",
       "    </tr>\n",
       "    <tr>\n",
       "      <th>4</th>\n",
       "      <td>7651065</td>\n",
       "      <td>https://www.airbnb.com/rooms/7651065</td>\n",
       "      <td>20160906204935</td>\n",
       "      <td>2016-09-07</td>\n",
       "      <td>Come Home to Boston</td>\n",
       "      <td>My comfy, clean and relaxing home is one block...</td>\n",
       "      <td>Clean, attractive, private room, one block fro...</td>\n",
       "      <td>My comfy, clean and relaxing home is one block...</td>\n",
       "      <td>none</td>\n",
       "      <td>I love the proximity to downtown, the neighbor...</td>\n",
       "      <td>...</td>\n",
       "      <td>10.0</td>\n",
       "      <td>f</td>\n",
       "      <td>NaN</td>\n",
       "      <td>NaN</td>\n",
       "      <td>f</td>\n",
       "      <td>flexible</td>\n",
       "      <td>f</td>\n",
       "      <td>f</td>\n",
       "      <td>1</td>\n",
       "      <td>2.25</td>\n",
       "    </tr>\n",
       "  </tbody>\n",
       "</table>\n",
       "<p>5 rows × 95 columns</p>\n",
       "</div>"
      ],
      "text/plain": [
       "         id                            listing_url       scrape_id  \\\n",
       "0  12147973  https://www.airbnb.com/rooms/12147973  20160906204935   \n",
       "1   3075044   https://www.airbnb.com/rooms/3075044  20160906204935   \n",
       "2      6976      https://www.airbnb.com/rooms/6976  20160906204935   \n",
       "3   1436513   https://www.airbnb.com/rooms/1436513  20160906204935   \n",
       "4   7651065   https://www.airbnb.com/rooms/7651065  20160906204935   \n",
       "\n",
       "  last_scraped                                           name  \\\n",
       "0   2016-09-07                     Sunny Bungalow in the City   \n",
       "1   2016-09-07              Charming room in pet friendly apt   \n",
       "2   2016-09-07               Mexican Folk Art Haven in Boston   \n",
       "3   2016-09-07  Spacious Sunny Bedroom Suite in Historic Home   \n",
       "4   2016-09-07                            Come Home to Boston   \n",
       "\n",
       "                                             summary  \\\n",
       "0  Cozy, sunny, family home.  Master bedroom high...   \n",
       "1  Charming and quiet room in a second floor 1910...   \n",
       "2  Come stay with a friendly, middle-aged guy in ...   \n",
       "3  Come experience the comforts of home away from...   \n",
       "4  My comfy, clean and relaxing home is one block...   \n",
       "\n",
       "                                               space  \\\n",
       "0  The house has an open and cozy feel at the sam...   \n",
       "1  Small but cozy and quite room with a full size...   \n",
       "2  Come stay with a friendly, middle-aged guy in ...   \n",
       "3  Most places you find in Boston are small howev...   \n",
       "4  Clean, attractive, private room, one block fro...   \n",
       "\n",
       "                                         description experiences_offered  \\\n",
       "0  Cozy, sunny, family home.  Master bedroom high...                none   \n",
       "1  Charming and quiet room in a second floor 1910...                none   \n",
       "2  Come stay with a friendly, middle-aged guy in ...                none   \n",
       "3  Come experience the comforts of home away from...                none   \n",
       "4  My comfy, clean and relaxing home is one block...                none   \n",
       "\n",
       "                               neighborhood_overview  ... review_scores_value  \\\n",
       "0  Roslindale is quiet, convenient and friendly. ...  ...                 NaN   \n",
       "1  The room is in Roslindale, a diverse and prima...  ...                 9.0   \n",
       "2  The LOCATION: Roslindale is a safe and diverse...  ...                10.0   \n",
       "3  Roslindale is a lovely little neighborhood loc...  ...                10.0   \n",
       "4  I love the proximity to downtown, the neighbor...  ...                10.0   \n",
       "\n",
       "  requires_license license jurisdiction_names instant_bookable  \\\n",
       "0                f     NaN                NaN                f   \n",
       "1                f     NaN                NaN                t   \n",
       "2                f     NaN                NaN                f   \n",
       "3                f     NaN                NaN                f   \n",
       "4                f     NaN                NaN                f   \n",
       "\n",
       "  cancellation_policy require_guest_profile_picture  \\\n",
       "0            moderate                             f   \n",
       "1            moderate                             f   \n",
       "2            moderate                             t   \n",
       "3            moderate                             f   \n",
       "4            flexible                             f   \n",
       "\n",
       "  require_guest_phone_verification calculated_host_listings_count  \\\n",
       "0                                f                              1   \n",
       "1                                f                              1   \n",
       "2                                f                              1   \n",
       "3                                f                              1   \n",
       "4                                f                              1   \n",
       "\n",
       "   reviews_per_month  \n",
       "0                NaN  \n",
       "1               1.30  \n",
       "2               0.47  \n",
       "3               1.00  \n",
       "4               2.25  \n",
       "\n",
       "[5 rows x 95 columns]"
      ]
     },
     "execution_count": 5,
     "metadata": {},
     "output_type": "execute_result"
    }
   ],
   "source": [
    "airbnbList.head()"
   ]
  },
  {
   "cell_type": "code",
   "execution_count": 6,
   "id": "182a4feb",
   "metadata": {},
   "outputs": [
    {
     "data": {
      "text/plain": [
       "Index(['id', 'listing_url', 'scrape_id', 'last_scraped', 'name', 'summary',\n",
       "       'space', 'description', 'experiences_offered', 'neighborhood_overview',\n",
       "       'notes', 'transit', 'access', 'interaction', 'house_rules',\n",
       "       'thumbnail_url', 'medium_url', 'picture_url', 'xl_picture_url',\n",
       "       'host_id', 'host_url', 'host_name', 'host_since', 'host_location',\n",
       "       'host_about', 'host_response_time', 'host_response_rate',\n",
       "       'host_acceptance_rate', 'host_is_superhost', 'host_thumbnail_url',\n",
       "       'host_picture_url', 'host_neighbourhood', 'host_listings_count',\n",
       "       'host_total_listings_count', 'host_verifications',\n",
       "       'host_has_profile_pic', 'host_identity_verified', 'street',\n",
       "       'neighbourhood', 'neighbourhood_cleansed',\n",
       "       'neighbourhood_group_cleansed', 'city', 'state', 'zipcode', 'market',\n",
       "       'smart_location', 'country_code', 'country', 'latitude', 'longitude',\n",
       "       'is_location_exact', 'property_type', 'room_type', 'accommodates',\n",
       "       'bathrooms', 'bedrooms', 'beds', 'bed_type', 'amenities', 'square_feet',\n",
       "       'price', 'weekly_price', 'monthly_price', 'security_deposit',\n",
       "       'cleaning_fee', 'guests_included', 'extra_people', 'minimum_nights',\n",
       "       'maximum_nights', 'calendar_updated', 'has_availability',\n",
       "       'availability_30', 'availability_60', 'availability_90',\n",
       "       'availability_365', 'calendar_last_scraped', 'number_of_reviews',\n",
       "       'first_review', 'last_review', 'review_scores_rating',\n",
       "       'review_scores_accuracy', 'review_scores_cleanliness',\n",
       "       'review_scores_checkin', 'review_scores_communication',\n",
       "       'review_scores_location', 'review_scores_value', 'requires_license',\n",
       "       'license', 'jurisdiction_names', 'instant_bookable',\n",
       "       'cancellation_policy', 'require_guest_profile_picture',\n",
       "       'require_guest_phone_verification', 'calculated_host_listings_count',\n",
       "       'reviews_per_month'],\n",
       "      dtype='object')"
      ]
     },
     "execution_count": 6,
     "metadata": {},
     "output_type": "execute_result"
    }
   ],
   "source": [
    "airbnbList.columns"
   ]
  },
  {
   "cell_type": "markdown",
   "id": "f4aad127",
   "metadata": {},
   "source": [
    "# Best neighborhoods"
   ]
  },
  {
   "cell_type": "code",
   "execution_count": 7,
   "id": "e376538b",
   "metadata": {},
   "outputs": [
    {
     "data": {
      "text/plain": [
       "Text(0.5, 1.0, 'Number of Airbnb Listings in Seattle Neighbourhoods')"
      ]
     },
     "execution_count": 7,
     "metadata": {},
     "output_type": "execute_result"
    },
    {
     "data": {
      "image/png": "[encoded data removed]",
      "text/plain": [
       "<Figure size 640x480 with 1 Axes>"
      ]
     },
     "metadata": {},
     "output_type": "display_data"
    }
   ],
   "source": [
    "# Seattle\n",
    "seattleList['neighbourhood_group_cleansed'].value_counts().plot(kind = 'barh')\n",
    "plt.xlabel(\"Count of Listings\")\n",
    "plt.ylabel(\"Neighbourhood Group\")\n",
    "plt.title(\"Number of Airbnb Listings in Seattle Neighbourhoods\")"
   ]
  },
  {
   "cell_type": "code",
   "execution_count": 8,
   "id": "292fdfa2",
   "metadata": {},
   "outputs": [],
   "source": [
    "# Seattle\n",
    "#counts = seattleList['neighbourhood_cleansed'].value_counts()\n",
    "#mask = counts > 50\n",
    "#filtered_counts = counts[mask]\n",
    "#filtered_counts.plot(kind='barh')\n",
    "#plt.xlabel(\"Count of Listings\")\n",
    "#plt.ylabel(\"Neighbourhood Group\")\n",
    "#plt.title(\"Number of Airbnb Listings in Seattle Neighbourhoods\")"
   ]
  },
  {
   "cell_type": "code",
   "execution_count": 9,
   "id": "6d0b4778",
   "metadata": {},
   "outputs": [
    {
     "data": {
      "image/png": "[encoded data removed]",
      "text/plain": [
       "<Figure size 640x480 with 1 Axes>"
      ]
     },
     "metadata": {},
     "output_type": "display_data"
    }
   ],
   "source": [
    "# Boston\n",
    "bostonList['neighbourhood_cleansed'].value_counts().plot(kind = 'barh')\n",
    "plt.xlabel(\"Count of Listings\")\n",
    "plt.ylabel(\"Neighbourhood Group\")\n",
    "plt.title(\"Number of Airbnb Listings in Boston Neighbourhoods\");"
   ]
  },
  {
   "cell_type": "code",
   "execution_count": 10,
   "id": "f6e6a462",
   "metadata": {},
   "outputs": [
    {
     "data": {
      "text/html": [
       "<div>\n",
       "<style scoped>\n",
       "    .dataframe tbody tr th:only-of-type {\n",
       "        vertical-align: middle;\n",
       "    }\n",
       "\n",
       "    .dataframe tbody tr th {\n",
       "        vertical-align: top;\n",
       "    }\n",
       "\n",
       "    .dataframe thead th {\n",
       "        text-align: right;\n",
       "    }\n",
       "</style>\n",
       "<table border=\"1\" class=\"dataframe\">\n",
       "  <thead>\n",
       "    <tr style=\"text-align: right;\">\n",
       "      <th></th>\n",
       "      <th>review_scores_value</th>\n",
       "    </tr>\n",
       "    <tr>\n",
       "      <th>neighbourhood_cleansed</th>\n",
       "      <th></th>\n",
       "    </tr>\n",
       "  </thead>\n",
       "  <tbody>\n",
       "    <tr>\n",
       "      <th>Fauntleroy</th>\n",
       "      <td>10.000000</td>\n",
       "    </tr>\n",
       "    <tr>\n",
       "      <th>Genesee</th>\n",
       "      <td>9.833333</td>\n",
       "    </tr>\n",
       "    <tr>\n",
       "      <th>Gatewood</th>\n",
       "      <td>9.812500</td>\n",
       "    </tr>\n",
       "    <tr>\n",
       "      <th>Maple Leaf</th>\n",
       "      <td>9.805556</td>\n",
       "    </tr>\n",
       "    <tr>\n",
       "      <th>Rainier Beach</th>\n",
       "      <td>9.800000</td>\n",
       "    </tr>\n",
       "    <tr>\n",
       "      <th>Madrona</th>\n",
       "      <td>9.794872</td>\n",
       "    </tr>\n",
       "    <tr>\n",
       "      <th>North College Park</th>\n",
       "      <td>9.785714</td>\n",
       "    </tr>\n",
       "    <tr>\n",
       "      <th>Laurelhurst</th>\n",
       "      <td>9.777778</td>\n",
       "    </tr>\n",
       "    <tr>\n",
       "      <th>Highland Park</th>\n",
       "      <td>9.777778</td>\n",
       "    </tr>\n",
       "    <tr>\n",
       "      <th>Whittier Heights</th>\n",
       "      <td>9.750000</td>\n",
       "    </tr>\n",
       "    <tr>\n",
       "      <th>Harrison/Denny-Blaine</th>\n",
       "      <td>9.750000</td>\n",
       "    </tr>\n",
       "    <tr>\n",
       "      <th>Seaview</th>\n",
       "      <td>9.727273</td>\n",
       "    </tr>\n",
       "    <tr>\n",
       "      <th>Brighton</th>\n",
       "      <td>9.727273</td>\n",
       "    </tr>\n",
       "    <tr>\n",
       "      <th>North Delridge</th>\n",
       "      <td>9.720000</td>\n",
       "    </tr>\n",
       "    <tr>\n",
       "      <th>Meadowbrook</th>\n",
       "      <td>9.714286</td>\n",
       "    </tr>\n",
       "  </tbody>\n",
       "</table>\n",
       "</div>"
      ],
      "text/plain": [
       "                        review_scores_value\n",
       "neighbourhood_cleansed                     \n",
       "Fauntleroy                        10.000000\n",
       "Genesee                            9.833333\n",
       "Gatewood                           9.812500\n",
       "Maple Leaf                         9.805556\n",
       "Rainier Beach                      9.800000\n",
       "Madrona                            9.794872\n",
       "North College Park                 9.785714\n",
       "Laurelhurst                        9.777778\n",
       "Highland Park                      9.777778\n",
       "Whittier Heights                   9.750000\n",
       "Harrison/Denny-Blaine              9.750000\n",
       "Seaview                            9.727273\n",
       "Brighton                           9.727273\n",
       "North Delridge                     9.720000\n",
       "Meadowbrook                        9.714286"
      ]
     },
     "execution_count": 10,
     "metadata": {},
     "output_type": "execute_result"
    }
   ],
   "source": [
    "# Determine best neighborhoods via highest airbnb review value\n",
    "# Seattle\n",
    "seattleList.groupby('neighbourhood_cleansed').mean().sort_values('review_scores_value', ascending = False)[['review_scores_value']].head(15)"
   ]
  },
  {
   "cell_type": "code",
   "execution_count": 11,
   "id": "ebeb5337",
   "metadata": {},
   "outputs": [
    {
     "data": {
      "text/html": [
       "<div>\n",
       "<style scoped>\n",
       "    .dataframe tbody tr th:only-of-type {\n",
       "        vertical-align: middle;\n",
       "    }\n",
       "\n",
       "    .dataframe tbody tr th {\n",
       "        vertical-align: top;\n",
       "    }\n",
       "\n",
       "    .dataframe thead th {\n",
       "        text-align: right;\n",
       "    }\n",
       "</style>\n",
       "<table border=\"1\" class=\"dataframe\">\n",
       "  <thead>\n",
       "    <tr style=\"text-align: right;\">\n",
       "      <th></th>\n",
       "      <th>review_scores_value</th>\n",
       "    </tr>\n",
       "    <tr>\n",
       "      <th>neighbourhood_cleansed</th>\n",
       "      <th></th>\n",
       "    </tr>\n",
       "  </thead>\n",
       "  <tbody>\n",
       "    <tr>\n",
       "      <th>Leather District</th>\n",
       "      <td>9.666667</td>\n",
       "    </tr>\n",
       "    <tr>\n",
       "      <th>Roslindale</th>\n",
       "      <td>9.580000</td>\n",
       "    </tr>\n",
       "    <tr>\n",
       "      <th>West Roxbury</th>\n",
       "      <td>9.454545</td>\n",
       "    </tr>\n",
       "    <tr>\n",
       "      <th>Jamaica Plain</th>\n",
       "      <td>9.450847</td>\n",
       "    </tr>\n",
       "    <tr>\n",
       "      <th>South Boston</th>\n",
       "      <td>9.379085</td>\n",
       "    </tr>\n",
       "    <tr>\n",
       "      <th>Charlestown</th>\n",
       "      <td>9.368421</td>\n",
       "    </tr>\n",
       "    <tr>\n",
       "      <th>Longwood Medical Area</th>\n",
       "      <td>9.333333</td>\n",
       "    </tr>\n",
       "    <tr>\n",
       "      <th>North End</th>\n",
       "      <td>9.325000</td>\n",
       "    </tr>\n",
       "    <tr>\n",
       "      <th>South End</th>\n",
       "      <td>9.263941</td>\n",
       "    </tr>\n",
       "    <tr>\n",
       "      <th>Beacon Hill</th>\n",
       "      <td>9.244048</td>\n",
       "    </tr>\n",
       "    <tr>\n",
       "      <th>South Boston Waterfront</th>\n",
       "      <td>9.224138</td>\n",
       "    </tr>\n",
       "    <tr>\n",
       "      <th>Hyde Park</th>\n",
       "      <td>9.160000</td>\n",
       "    </tr>\n",
       "    <tr>\n",
       "      <th>Brighton</th>\n",
       "      <td>9.157895</td>\n",
       "    </tr>\n",
       "    <tr>\n",
       "      <th>Downtown</th>\n",
       "      <td>9.152542</td>\n",
       "    </tr>\n",
       "    <tr>\n",
       "      <th>Bay Village</th>\n",
       "      <td>9.125000</td>\n",
       "    </tr>\n",
       "  </tbody>\n",
       "</table>\n",
       "</div>"
      ],
      "text/plain": [
       "                         review_scores_value\n",
       "neighbourhood_cleansed                      \n",
       "Leather District                    9.666667\n",
       "Roslindale                          9.580000\n",
       "West Roxbury                        9.454545\n",
       "Jamaica Plain                       9.450847\n",
       "South Boston                        9.379085\n",
       "Charlestown                         9.368421\n",
       "Longwood Medical Area               9.333333\n",
       "North End                           9.325000\n",
       "South End                           9.263941\n",
       "Beacon Hill                         9.244048\n",
       "South Boston Waterfront             9.224138\n",
       "Hyde Park                           9.160000\n",
       "Brighton                            9.157895\n",
       "Downtown                            9.152542\n",
       "Bay Village                         9.125000"
      ]
     },
     "execution_count": 11,
     "metadata": {},
     "output_type": "execute_result"
    }
   ],
   "source": [
    "# Seattle\n",
    "bostonList.groupby('neighbourhood_cleansed').mean().sort_values('review_scores_value', ascending = False)[['review_scores_value']].head(15)"
   ]
  },
  {
   "cell_type": "code",
   "execution_count": 12,
   "id": "26045854",
   "metadata": {},
   "outputs": [
    {
     "data": {
      "text/html": [
       "<div>\n",
       "<style scoped>\n",
       "    .dataframe tbody tr th:only-of-type {\n",
       "        vertical-align: middle;\n",
       "    }\n",
       "\n",
       "    .dataframe tbody tr th {\n",
       "        vertical-align: top;\n",
       "    }\n",
       "\n",
       "    .dataframe thead th {\n",
       "        text-align: right;\n",
       "    }\n",
       "</style>\n",
       "<table border=\"1\" class=\"dataframe\">\n",
       "  <thead>\n",
       "    <tr style=\"text-align: right;\">\n",
       "      <th></th>\n",
       "      <th>review_scores_value</th>\n",
       "    </tr>\n",
       "    <tr>\n",
       "      <th>neighbourhood_cleansed</th>\n",
       "      <th></th>\n",
       "    </tr>\n",
       "  </thead>\n",
       "  <tbody>\n",
       "    <tr>\n",
       "      <th>Fauntleroy</th>\n",
       "      <td>10.000000</td>\n",
       "    </tr>\n",
       "    <tr>\n",
       "      <th>Genesee</th>\n",
       "      <td>9.833333</td>\n",
       "    </tr>\n",
       "    <tr>\n",
       "      <th>Gatewood</th>\n",
       "      <td>9.812500</td>\n",
       "    </tr>\n",
       "    <tr>\n",
       "      <th>Maple Leaf</th>\n",
       "      <td>9.805556</td>\n",
       "    </tr>\n",
       "    <tr>\n",
       "      <th>Rainier Beach</th>\n",
       "      <td>9.800000</td>\n",
       "    </tr>\n",
       "    <tr>\n",
       "      <th>Madrona</th>\n",
       "      <td>9.794872</td>\n",
       "    </tr>\n",
       "    <tr>\n",
       "      <th>North College Park</th>\n",
       "      <td>9.785714</td>\n",
       "    </tr>\n",
       "    <tr>\n",
       "      <th>Highland Park</th>\n",
       "      <td>9.777778</td>\n",
       "    </tr>\n",
       "    <tr>\n",
       "      <th>Laurelhurst</th>\n",
       "      <td>9.777778</td>\n",
       "    </tr>\n",
       "    <tr>\n",
       "      <th>Harrison/Denny-Blaine</th>\n",
       "      <td>9.750000</td>\n",
       "    </tr>\n",
       "    <tr>\n",
       "      <th>Whittier Heights</th>\n",
       "      <td>9.750000</td>\n",
       "    </tr>\n",
       "    <tr>\n",
       "      <th>Seaview</th>\n",
       "      <td>9.727273</td>\n",
       "    </tr>\n",
       "    <tr>\n",
       "      <th>North Delridge</th>\n",
       "      <td>9.720000</td>\n",
       "    </tr>\n",
       "    <tr>\n",
       "      <th>Victory Heights</th>\n",
       "      <td>9.714286</td>\n",
       "    </tr>\n",
       "    <tr>\n",
       "      <th>Meadowbrook</th>\n",
       "      <td>9.714286</td>\n",
       "    </tr>\n",
       "  </tbody>\n",
       "</table>\n",
       "</div>"
      ],
      "text/plain": [
       "                        review_scores_value\n",
       "neighbourhood_cleansed                     \n",
       "Fauntleroy                        10.000000\n",
       "Genesee                            9.833333\n",
       "Gatewood                           9.812500\n",
       "Maple Leaf                         9.805556\n",
       "Rainier Beach                      9.800000\n",
       "Madrona                            9.794872\n",
       "North College Park                 9.785714\n",
       "Highland Park                      9.777778\n",
       "Laurelhurst                        9.777778\n",
       "Harrison/Denny-Blaine              9.750000\n",
       "Whittier Heights                   9.750000\n",
       "Seaview                            9.727273\n",
       "North Delridge                     9.720000\n",
       "Victory Heights                    9.714286\n",
       "Meadowbrook                        9.714286"
      ]
     },
     "execution_count": 12,
     "metadata": {},
     "output_type": "execute_result"
    }
   ],
   "source": [
    "# Overall\n",
    "airbnbList.groupby('neighbourhood_cleansed').mean().sort_values('review_scores_value', ascending = False)[['review_scores_value']].head(15)"
   ]
  },
  {
   "cell_type": "markdown",
   "id": "3f8c3a4a",
   "metadata": {},
   "source": [
    "# Busiest times to visit each city?"
   ]
  },
  {
   "cell_type": "markdown",
   "id": "345dbb30",
   "metadata": {},
   "source": [
    "## Clean"
   ]
  },
  {
   "cell_type": "markdown",
   "id": "0894d307",
   "metadata": {},
   "source": [
    "### Seattle"
   ]
  },
  {
   "cell_type": "code",
   "execution_count": 13,
   "id": "7b6d97b7",
   "metadata": {},
   "outputs": [],
   "source": [
    "# extract month and year from date\n",
    "get_month1 = lambda date: dt.datetime.strptime(date, '%Y-%m-%d').month\n",
    "seattleCal['month'] = seattleCal['date'].apply(get_month1)\n",
    "get_year1 = lambda date: dt.datetime.strptime(date, '%Y-%m-%d').year\n",
    "seattleCal['year'] = seattleCal['date'].apply(get_year1)"
   ]
  },
  {
   "cell_type": "code",
   "execution_count": 14,
   "id": "693038f5",
   "metadata": {},
   "outputs": [
    {
     "data": {
      "text/html": [
       "<div>\n",
       "<style scoped>\n",
       "    .dataframe tbody tr th:only-of-type {\n",
       "        vertical-align: middle;\n",
       "    }\n",
       "\n",
       "    .dataframe tbody tr th {\n",
       "        vertical-align: top;\n",
       "    }\n",
       "\n",
       "    .dataframe thead th {\n",
       "        text-align: right;\n",
       "    }\n",
       "</style>\n",
       "<table border=\"1\" class=\"dataframe\">\n",
       "  <thead>\n",
       "    <tr style=\"text-align: right;\">\n",
       "      <th></th>\n",
       "      <th>listing_id</th>\n",
       "      <th>date</th>\n",
       "      <th>available</th>\n",
       "      <th>price</th>\n",
       "      <th>month</th>\n",
       "      <th>year</th>\n",
       "    </tr>\n",
       "  </thead>\n",
       "  <tbody>\n",
       "    <tr>\n",
       "      <th>0</th>\n",
       "      <td>241032</td>\n",
       "      <td>2016-01-04</td>\n",
       "      <td>1</td>\n",
       "      <td>$85.00</td>\n",
       "      <td>1</td>\n",
       "      <td>2016</td>\n",
       "    </tr>\n",
       "    <tr>\n",
       "      <th>1</th>\n",
       "      <td>241032</td>\n",
       "      <td>2016-01-05</td>\n",
       "      <td>1</td>\n",
       "      <td>$85.00</td>\n",
       "      <td>1</td>\n",
       "      <td>2016</td>\n",
       "    </tr>\n",
       "    <tr>\n",
       "      <th>2</th>\n",
       "      <td>241032</td>\n",
       "      <td>2016-01-06</td>\n",
       "      <td>0</td>\n",
       "      <td>NaN</td>\n",
       "      <td>1</td>\n",
       "      <td>2016</td>\n",
       "    </tr>\n",
       "    <tr>\n",
       "      <th>3</th>\n",
       "      <td>241032</td>\n",
       "      <td>2016-01-07</td>\n",
       "      <td>0</td>\n",
       "      <td>NaN</td>\n",
       "      <td>1</td>\n",
       "      <td>2016</td>\n",
       "    </tr>\n",
       "    <tr>\n",
       "      <th>4</th>\n",
       "      <td>241032</td>\n",
       "      <td>2016-01-08</td>\n",
       "      <td>0</td>\n",
       "      <td>NaN</td>\n",
       "      <td>1</td>\n",
       "      <td>2016</td>\n",
       "    </tr>\n",
       "  </tbody>\n",
       "</table>\n",
       "</div>"
      ],
      "text/plain": [
       "   listing_id        date  available   price  month  year\n",
       "0      241032  2016-01-04          1  $85.00      1  2016\n",
       "1      241032  2016-01-05          1  $85.00      1  2016\n",
       "2      241032  2016-01-06          0     NaN      1  2016\n",
       "3      241032  2016-01-07          0     NaN      1  2016\n",
       "4      241032  2016-01-08          0     NaN      1  2016"
      ]
     },
     "execution_count": 14,
     "metadata": {},
     "output_type": "execute_result"
    }
   ],
   "source": [
    "# change available column from f, t to 0, 1\n",
    "seattleCal['available'] = seattleCal['available'].map({'f': 0, 't': 1})\n",
    "seattleCal.head()"
   ]
  },
  {
   "cell_type": "code",
   "execution_count": 15,
   "id": "a29aace3",
   "metadata": {},
   "outputs": [
    {
     "data": {
      "text/plain": [
       "2016    1385934\n",
       "2017       7636\n",
       "Name: year, dtype: int64"
      ]
     },
     "execution_count": 15,
     "metadata": {},
     "output_type": "execute_result"
    }
   ],
   "source": [
    "seattleCal['year'].value_counts()"
   ]
  },
  {
   "cell_type": "code",
   "execution_count": 16,
   "id": "0b88b761",
   "metadata": {},
   "outputs": [
    {
     "data": {
      "text/plain": [
       "1    7636\n",
       "Name: month, dtype: int64"
      ]
     },
     "execution_count": 16,
     "metadata": {},
     "output_type": "execute_result"
    }
   ],
   "source": [
    "seattleCal.loc[seattleCal['year'] == 2017, 'month'].value_counts()"
   ]
  },
  {
   "cell_type": "code",
   "execution_count": 17,
   "id": "afdda357",
   "metadata": {},
   "outputs": [
    {
     "data": {
      "text/plain": [
       "3     118358\n",
       "5     118358\n",
       "7     118358\n",
       "8     118358\n",
       "10    118358\n",
       "12    118358\n",
       "4     114540\n",
       "6     114540\n",
       "9     114540\n",
       "11    114540\n",
       "2     110722\n",
       "1     106904\n",
       "Name: month, dtype: int64"
      ]
     },
     "execution_count": 17,
     "metadata": {},
     "output_type": "execute_result"
    }
   ],
   "source": [
    "seattleCal.loc[seattleCal['year'] == 2016, 'month'].value_counts()"
   ]
  },
  {
   "cell_type": "markdown",
   "id": "b6538b8d",
   "metadata": {},
   "source": [
    "This data might be unusable as the 2017 data is all from January"
   ]
  },
  {
   "cell_type": "markdown",
   "id": "2786bafc",
   "metadata": {},
   "source": [
    "### Boston"
   ]
  },
  {
   "cell_type": "code",
   "execution_count": null,
   "id": "7a18226a",
   "metadata": {},
   "outputs": [],
   "source": [
    "# extract month and year from date\n",
    "get_month2 = lambda date: dt.datetime.strptime(date, '%Y-%m-%d').month\n",
    "bostonCal['month'] = bostonCal['date'].apply(get_month2)\n",
    "get_year2 = lambda date: dt.datetime.strptime(date, '%Y-%m-%d').year\n",
    "bostonCal['year'] = bostonCal['date'].apply(get_year2)"
   ]
  },
  {
   "cell_type": "code",
   "execution_count": null,
   "id": "2234474c",
   "metadata": {},
   "outputs": [],
   "source": [
    "# change available column from f, t to 0, 1\n",
    "bostonCal['available'] = bostonCal['available'].map({'f': 0, 't': 1})\n",
    "bostonCal.head()"
   ]
  },
  {
   "cell_type": "code",
   "execution_count": null,
   "id": "e2afd8e1",
   "metadata": {},
   "outputs": [],
   "source": [
    "bostonCal['year'].value_counts()"
   ]
  },
  {
   "cell_type": "code",
   "execution_count": null,
   "id": "a057a273",
   "metadata": {},
   "outputs": [],
   "source": [
    "bostonCal.loc[bostonCal['year'] == 2017, 'month'].value_counts()"
   ]
  },
  {
   "cell_type": "code",
   "execution_count": null,
   "id": "bb8fe18e",
   "metadata": {},
   "outputs": [],
   "source": [
    "bostonCal.loc[bostonCal['year'] == 2016, 'month'].value_counts()"
   ]
  },
  {
   "cell_type": "markdown",
   "id": "90c2130c",
   "metadata": {},
   "source": [
    "### Overall"
   ]
  },
  {
   "cell_type": "code",
   "execution_count": null,
   "id": "7e7d8c9d",
   "metadata": {},
   "outputs": [],
   "source": [
    "# extract month and year from date\n",
    "get_month3 = lambda date: dt.datetime.strptime(date, '%Y-%m-%d').month\n",
    "airbnbCal['month'] = airbnbCal['date'].apply(get_month3)\n",
    "get_year3 = lambda date: dt.datetime.strptime(date, '%Y-%m-%d').year\n",
    "airbnbCal['year'] = airbnbCal['date'].apply(get_year3)"
   ]
  },
  {
   "cell_type": "code",
   "execution_count": null,
   "id": "c9ff7a72",
   "metadata": {},
   "outputs": [],
   "source": [
    "# change available column from f, t to 0, 1\n",
    "airbnbCal['available'] = airbnbCal['available'].map({'f': 0, 't': 1})\n",
    "airbnbCal.head()"
   ]
  },
  {
   "cell_type": "markdown",
   "id": "f70ec9d7",
   "metadata": {},
   "source": [
    "## Visualization"
   ]
  },
  {
   "cell_type": "markdown",
   "id": "a2bdbb2a",
   "metadata": {},
   "source": [
    "### Seattle"
   ]
  },
  {
   "cell_type": "code",
   "execution_count": null,
   "id": "80956c2b",
   "metadata": {},
   "outputs": [],
   "source": [
    "# calculate availablity rate\n",
    "availabilityRateSeattle = seattleCal[seattleCal['year'] == 2016].groupby('month').mean()['available']\n",
    "\n",
    "# plot availablity rate in each month\n",
    "fig, ax = plt.subplots(1, 1, figsize = (12, 5))\n",
    "ax.set_xticks(list(range(1,13)))\n",
    "plt.xlabel('month')\n",
    "plt.ylabel('availability rate')\n",
    "plt.title('Availability Rate of Seattle Airbnb in Each Month, Year 2016')\n",
    "plt.plot(availabilityRateSeattle)"
   ]
  },
  {
   "cell_type": "code",
   "execution_count": null,
   "id": "75e2de5a",
   "metadata": {},
   "outputs": [],
   "source": [
    "# calculate total number of listings available in each month\n",
    "numListingSeattle = seattleCal[seattleCal['year'] == 2016].groupby('month').sum()['available']\n",
    "\n",
    "# plot number of listing in each month\n",
    "fig, ax = plt.subplots(1, 1, figsize = (12, 5))\n",
    "ax.set_xticks(list(range(1,13)))\n",
    "plt.xlabel('month')\n",
    "plt.ylabel('number of listings')\n",
    "plt.title('Number of listings of Seattle Airbnb in Each Month, Year 2016')\n",
    "plt.plot(numListingSeattle)"
   ]
  },
  {
   "cell_type": "code",
   "execution_count": null,
   "id": "9e6a1752",
   "metadata": {},
   "outputs": [],
   "source": [
    "# extract price as float based on price column\n",
    "seattleCal['price'] = seattleCal['price'].str.replace('$', '').str.replace(',', '').astype(\"float\")"
   ]
  },
  {
   "cell_type": "code",
   "execution_count": null,
   "id": "9bab5e94",
   "metadata": {},
   "outputs": [],
   "source": [
    "# calculate average price of listings available in each month\n",
    "avgPriceSeattle = seattleCal[(seattleCal['year'] == 2016) & (seattleCal['available'] == 1)].groupby('month').mean()['price']\n",
    "# plot average price in each month\n",
    "fig, ax = plt.subplots(1, 1, figsize = (12, 5))\n",
    "ax.set_xticks(list(range(1,13)))\n",
    "plt.xlabel('month')\n",
    "plt.ylabel('average price')\n",
    "plt.title('Average price of listings of Seattle Airbnb in Each Month, Year 2016')\n",
    "plt.plot(avgPriceSeattle)"
   ]
  },
  {
   "cell_type": "markdown",
   "id": "8e550020",
   "metadata": {},
   "source": [
    "### Boston "
   ]
  },
  {
   "cell_type": "code",
   "execution_count": null,
   "id": "37b177ba",
   "metadata": {},
   "outputs": [],
   "source": [
    "# calculate availablity rate\n",
    "availabilityRateBoston = bostonCal[(bostonCal['year'] == 2016) | (bostonCal['year'] == 2017)].groupby('month').mean()['available']\n",
    "\n",
    "# plot availablity rate in each month\n",
    "fig, ax = plt.subplots(1, 1, figsize = (12, 5))\n",
    "ax.set_xticks(list(range(1,13)))\n",
    "plt.xlabel('month')\n",
    "plt.ylabel('availability rate')\n",
    "plt.title('Availability Rate of Boston Airbnb in Each Month, Years 2016-2017')\n",
    "plt.plot(availabilityRateBoston)"
   ]
  },
  {
   "cell_type": "code",
   "execution_count": null,
   "id": "72503b59",
   "metadata": {},
   "outputs": [],
   "source": [
    "# calculate total number of listings available in each month\n",
    "numListingBoston = bostonCal[(bostonCal['year'] == 2016) | (bostonCal['year'] == 2017)].groupby('month').sum()['available']\n",
    "\n",
    "# plot number of listing in each month\n",
    "fig, ax = plt.subplots(1, 1, figsize = (12, 5))\n",
    "ax.set_xticks(list(range(1,13)))\n",
    "plt.xlabel('month')\n",
    "plt.ylabel('number of listings')\n",
    "plt.title('Number of listings of Boston Airbnb in Each Month, Years 2016-2017')\n",
    "plt.plot(numListingBoston)"
   ]
  },
  {
   "cell_type": "code",
   "execution_count": null,
   "id": "52879856",
   "metadata": {},
   "outputs": [],
   "source": [
    "# extract price as float based on price column\n",
    "bostonCal['price'] = bostonCal['price'].str.replace('$', '').str.replace(',', '').astype(\"float\")"
   ]
  },
  {
   "cell_type": "code",
   "execution_count": null,
   "id": "da34f2de",
   "metadata": {
    "scrolled": true
   },
   "outputs": [],
   "source": [
    "# calculate average price of listings available in each month\n",
    "avgPriceBoston = bostonCal[(bostonCal['year'] == 2016) | (bostonCal['year'] == 2017) & (bostonCal['available'] == 1)].groupby('month').mean()['price']\n",
    "# plot average price in each month\n",
    "fig, ax = plt.subplots(1, 1, figsize = (12, 5))\n",
    "ax.set_xticks(list(range(1,13)))\n",
    "plt.xlabel('month')\n",
    "plt.ylabel('average price')\n",
    "plt.title('Average price of listings of Boston Airbnb in Each Month, Year 2016')\n",
    "plt.plot(avgPriceBoston)"
   ]
  },
  {
   "cell_type": "markdown",
   "id": "c720cac1",
   "metadata": {},
   "source": [
    "### Overall"
   ]
  },
  {
   "cell_type": "code",
   "execution_count": null,
   "id": "43bbaeb0",
   "metadata": {},
   "outputs": [],
   "source": [
    "# calculate availablity rate\n",
    "availabilityRate = airbnbCal[(airbnbCal['year'] == 2016) | (airbnbCal['year'] == 2017)].groupby('month').mean()['available']\n",
    "\n",
    "# plot availablity rate in each month\n",
    "fig, ax = plt.subplots(1, 1, figsize = (12, 5))\n",
    "ax.set_xticks(list(range(1,13)))\n",
    "plt.xlabel('month')\n",
    "plt.ylabel('availability rate')\n",
    "plt.title('Avg. Availability Rate of Boston & Seattle Airbnbs in Each Month, Years 2016-2017')\n",
    "plt.plot(availabilityRate)"
   ]
  },
  {
   "cell_type": "code",
   "execution_count": null,
   "id": "70b0ebfd",
   "metadata": {},
   "outputs": [],
   "source": [
    "# calculate total number of listings available in each month\n",
    "numListing = airbnbCal[(airbnbCal['year'] == 2016) | (airbnbCal['year'] == 2017)].groupby('month').sum()['available']\n",
    "\n",
    "# plot number of listing in each month\n",
    "fig, ax = plt.subplots(1, 1, figsize = (12, 5))\n",
    "ax.set_xticks(list(range(1,13)))\n",
    "plt.xlabel('month')\n",
    "plt.ylabel('number of listings')\n",
    "plt.title('Avg. Number of listings of Boston & Seattle Airbnb in Each Month, Years 2016-2017')\n",
    "plt.plot(numListing)"
   ]
  },
  {
   "cell_type": "code",
   "execution_count": null,
   "id": "1f09f848",
   "metadata": {},
   "outputs": [],
   "source": [
    "# extract price as float based on price column\n",
    "airbnbCal['price'] = airbnbCal['price'].str.replace('$', '').str.replace(',', '').astype(\"float\")"
   ]
  },
  {
   "cell_type": "code",
   "execution_count": null,
   "id": "9e77a94a",
   "metadata": {
    "scrolled": true
   },
   "outputs": [],
   "source": [
    "# calculate average price of listings available in each month\n",
    "avgPrice = airbnbCal[(airbnbCal['year'] == 2016) | (airbnbCal['year'] == 2017) & (airbnbCal['available'] == 1)].groupby('month').mean()['price']\n",
    "# plot average price in each month\n",
    "fig, ax = plt.subplots(1, 1, figsize = (12, 5))\n",
    "ax.set_xticks(list(range(1,13)))\n",
    "plt.xlabel('month')\n",
    "plt.ylabel('average price')\n",
    "plt.title('Average price of listings of Boston & Seattle Airbnbs in Each Month, Years 2016-2017')\n",
    "plt.plot(avgPrice)"
   ]
  },
  {
   "cell_type": "code",
   "execution_count": null,
   "id": "6566b8cf",
   "metadata": {},
   "outputs": [],
   "source": [
    "# create figure with two subplots\n",
    "fig, (ax1, ax2) = plt.subplots(2, 1, figsize = (12, 5))\n",
    "\n",
    "# plot average price in first subplot\n",
    "ax1.set_xticks(list(range(1,13)))\n",
    "ax1.set_xlabel('month')\n",
    "ax1.set_ylabel('availability rate')\n",
    "ax1.set_title('Availability Rate of Seattle Airbnb in Each Month, Year 2016')\n",
    "ax1.plot(availabilityRateBoston, color='blue')\n",
    "\n",
    "# plot number of listings in second subplot\n",
    "ax2.set_xticks(list(range(1,13)))\n",
    "ax2.set_xlabel('month')\n",
    "ax2.set_ylabel('availability rate')\n",
    "ax2.set_title('Availability Rate of Boston Airbnb in Each Month, Years 2016-2017')\n",
    "ax2.plot(availabilityRateSeattle, color='red')\n",
    "\n",
    "plt.tight_layout()  # adjust spacing between subplots\n",
    "plt.show()"
   ]
  },
  {
   "cell_type": "code",
   "execution_count": null,
   "id": "e6432b98",
   "metadata": {},
   "outputs": [],
   "source": [
    "# create figure with two subplots\n",
    "fig, (ax1, ax2) = plt.subplots(2, 1, figsize = (12, 5))\n",
    "\n",
    "# plot average price in first subplot\n",
    "ax1.set_xticks(list(range(1,13)))\n",
    "ax1.set_xlabel('month')\n",
    "ax1.set_ylabel('number of listings')\n",
    "ax1.set_title('Number of listings of Seattle Airbnb in Each Month, Year 2016')\n",
    "ax1.plot(numListingBoston, color='blue')\n",
    "\n",
    "# plot number of listings in second subplot\n",
    "ax2.set_xticks(list(range(1,13)))\n",
    "ax2.set_xlabel('month')\n",
    "ax2.set_ylabel('number of listings')\n",
    "ax2.set_title('Number of listings of Boston Airbnb in Each Month, Years 2016-2017')\n",
    "ax2.plot(numListingSeattle, color='red')\n",
    "\n",
    "plt.tight_layout()  # adjust spacing between subplots\n",
    "plt.show()"
   ]
  },
  {
   "cell_type": "code",
   "execution_count": null,
   "id": "7f071188",
   "metadata": {},
   "outputs": [],
   "source": [
    "# create figure with two subplots\n",
    "fig, (ax1, ax2) = plt.subplots(2, 1, figsize = (12, 5))\n",
    "\n",
    "# plot average price in first subplot\n",
    "ax1.set_xticks(list(range(1,13)))\n",
    "ax1.set_xlabel('month')\n",
    "ax1.set_ylabel('average price')\n",
    "ax1.set_title('Average price of listings of Seattle Airbnb in Each Month, Year 2016')\n",
    "ax1.plot(avgPriceSeattle, color='blue')\n",
    "\n",
    "# plot number of listings in second subplot\n",
    "ax2.set_xticks(list(range(1,13)))\n",
    "ax2.set_xlabel('month')\n",
    "ax2.set_ylabel('average price')\n",
    "ax2.set_title('Average price of listings of Boston Airbnb in Each Month, Years 2016-2017')\n",
    "ax2.plot(avgPriceBoston, color='red')\n",
    "\n",
    "plt.tight_layout()  # adjust spacing between subplots\n",
    "plt.show()"
   ]
  },
  {
   "cell_type": "markdown",
   "id": "724a9dc4",
   "metadata": {},
   "source": [
    "# Variation of Airbnb listings between neighborhoods"
   ]
  },
  {
   "cell_type": "markdown",
   "id": "8ae54f2b",
   "metadata": {},
   "source": [
    "# Clean"
   ]
  },
  {
   "cell_type": "code",
   "execution_count": null,
   "id": "5d0a879f",
   "metadata": {},
   "outputs": [],
   "source": [
    "# Create datasets for analysis\n",
    "selectedCol = ['review_scores_value','accommodates', 'bathrooms', 'bedrooms', 'beds', 'cancellation_policy', \"id\",\n",
    "                'host_is_superhost', 'extra_people', 'property_type', 'room_type', 'price', 'neighbourhood_cleansed'] \n",
    "\n",
    "seattleList1 = seattleList[selectedCol]\n",
    "bostonList1 = bostonList[selectedCol]\n",
    "airbnbList1 = airbnbList[selectedCol]"
   ]
  },
  {
   "cell_type": "code",
   "execution_count": null,
   "id": "aac4cace",
   "metadata": {},
   "outputs": [],
   "source": [
    "# prepare listing dataset for analysis\n",
    "# Seattle\n",
    "seattleList1['price'] = seattleList1['price'].str.replace('$', '').str.replace(',', '').astype(\"float\")\n",
    "seattleList1['extra_people'] = seattleList1['extra_people'].str.replace('$', '').str.replace(',', '').astype(\"float\")\n",
    "seattleList1['host_is_superhost'] = seattleList1['host_is_superhost'].map({'f': 0, 't': 1})\n",
    "\n",
    "# Seattle\n",
    "bostonList1['price'] = bostonList1['price'].str.replace('$', '').str.replace(',', '').astype(\"float\")\n",
    "bostonList1['extra_people'] = bostonList1['extra_people'].str.replace('$', '').str.replace(',', '').astype(\"float\")\n",
    "bostonList1['host_is_superhost'] = bostonList1['host_is_superhost'].map({'f': 0, 't': 1})\n",
    "\n",
    "# Seattle\n",
    "airbnbList1['price'] = airbnbList1['price'].str.replace('$', '').str.replace(',', '').astype(\"float\")\n",
    "airbnbList1['extra_people'] = airbnbList1['extra_people'].str.replace('$', '').str.replace(',', '').astype(\"float\")\n",
    "airbnbList1['host_is_superhost'] = airbnbList1['host_is_superhost'].map({'f': 0, 't': 1})"
   ]
  },
  {
   "cell_type": "code",
   "execution_count": null,
   "id": "486163cd",
   "metadata": {},
   "outputs": [],
   "source": [
    "seattleList1.head()"
   ]
  },
  {
   "cell_type": "code",
   "execution_count": null,
   "id": "8f12ef33",
   "metadata": {},
   "outputs": [],
   "source": [
    "bostonList1.head()"
   ]
  },
  {
   "cell_type": "code",
   "execution_count": null,
   "id": "849010f3",
   "metadata": {},
   "outputs": [],
   "source": [
    "airbnbList1.head()"
   ]
  },
  {
   "cell_type": "markdown",
   "id": "1c7ec933",
   "metadata": {},
   "source": [
    "## Analysis"
   ]
  },
  {
   "cell_type": "markdown",
   "id": "5bd13517",
   "metadata": {},
   "source": [
    "### Seattle"
   ]
  },
  {
   "cell_type": "code",
   "execution_count": null,
   "id": "00cfea0d",
   "metadata": {},
   "outputs": [],
   "source": [
    "# calculate average price of each neighbourhood\n",
    "seattleList1.groupby('neighbourhood_cleansed').mean().sort_values('price', ascending = False)[['price']]"
   ]
  },
  {
   "cell_type": "code",
   "execution_count": null,
   "id": "de9d8d34",
   "metadata": {},
   "outputs": [],
   "source": [
    "# calculate the number of unique of listings in each neighbourhood\n",
    "seattleList1.groupby('neighbourhood_cleansed').agg({\"id\": \"nunique\"}).sort_values('id', ascending = False)"
   ]
  },
  {
   "cell_type": "code",
   "execution_count": null,
   "id": "b29743c1",
   "metadata": {},
   "outputs": [],
   "source": [
    "# function to calculate the count of assigned proporty type for each neighborhood\n",
    "def getPropNumSeattle(property_type):\n",
    "    '''\n",
    "    INPUT:\n",
    "    property_type - the name of property type you want to analyze\n",
    "    \n",
    "    OUTPUT:\n",
    "    count - a table with the count of proporty type for each neighborhood\n",
    "    '''\n",
    "    seattleList1Filtered = seattleList1.loc[seattleList1['property_type'].isin([property_type])]\n",
    "    count = seattleList1Filtered.groupby(['neighbourhood_cleansed']).count()[['id']]\n",
    "    count['neighbourhood_cleansed'] = count.index\n",
    "    count.reset_index(drop = True, inplace = True)\n",
    "    type_name = \"{}_count\".format(property_type)\n",
    "    count.rename({'id': type_name}, axis = 1, inplace = True)\n",
    "    return(count)"
   ]
  },
  {
   "cell_type": "code",
   "execution_count": null,
   "id": "dc3a5841",
   "metadata": {},
   "outputs": [],
   "source": [
    "# get the number of house for each neighbourhood\n",
    "houseCountSeattle = getPropNumSeattle(\"House\")\n",
    "print(houseCountSeattle)"
   ]
  },
  {
   "cell_type": "code",
   "execution_count": null,
   "id": "eabd309d",
   "metadata": {},
   "outputs": [],
   "source": [
    "# get the number of apartment for each neighbourhood\n",
    "aptCountSeattle = getPropNumSeattle(\"Apartment\")\n",
    "print(aptCountSeattle)"
   ]
  },
  {
   "cell_type": "markdown",
   "id": "73c9cd66",
   "metadata": {},
   "source": [
    "### Boston"
   ]
  },
  {
   "cell_type": "code",
   "execution_count": null,
   "id": "dfa28936",
   "metadata": {
    "scrolled": true
   },
   "outputs": [],
   "source": [
    "# calculate average price of each neighbourhood\n",
    "bostonList1.groupby('neighbourhood_cleansed').mean().sort_values('price', ascending = False)[['price']]"
   ]
  },
  {
   "cell_type": "code",
   "execution_count": null,
   "id": "f753ee78",
   "metadata": {},
   "outputs": [],
   "source": [
    "# calculate the number of unique of listings in each neighbourhood\n",
    "bostonList1.groupby('neighbourhood_cleansed').agg({\"id\": \"nunique\"}).sort_values('id', ascending = False)"
   ]
  },
  {
   "cell_type": "code",
   "execution_count": null,
   "id": "a6ef7986",
   "metadata": {},
   "outputs": [],
   "source": [
    "# function to calculate the count of assigned proporty type for each neighborhood\n",
    "def getPropNumBoston(property_type):\n",
    "    '''\n",
    "    INPUT:\n",
    "    property_type - the name of property type you want to analyze\n",
    "    \n",
    "    OUTPUT:\n",
    "    count - a table with the count of proporty type for each neighborhood\n",
    "    '''\n",
    "    bostonList1Filtered = bostonList1.loc[bostonList1['property_type'].isin([property_type])]\n",
    "    count = bostonList1Filtered.groupby(['neighbourhood_cleansed']).count()[['id']]\n",
    "    count['neighbourhood_cleansed'] = count.index\n",
    "    count.reset_index(drop = True, inplace = True)\n",
    "    type_name = \"{}_count\".format(property_type)\n",
    "    count.rename({'id': type_name}, axis = 1, inplace = True)\n",
    "    return(count)"
   ]
  },
  {
   "cell_type": "code",
   "execution_count": null,
   "id": "0dc53a7e",
   "metadata": {},
   "outputs": [],
   "source": [
    "# get the number of house for each neighbourhood\n",
    "houseCountBoston = getPropNumBoston(\"House\")\n",
    "print(houseCountBoston)"
   ]
  },
  {
   "cell_type": "code",
   "execution_count": null,
   "id": "7b03c419",
   "metadata": {},
   "outputs": [],
   "source": [
    "# get the number of apartment for each neighbourhood\n",
    "aptCountBoston = getPropNumBoston(\"Apartment\")\n",
    "print(aptCountBoston)"
   ]
  },
  {
   "cell_type": "markdown",
   "id": "6c76cd6a",
   "metadata": {},
   "source": [
    "### Overall"
   ]
  },
  {
   "cell_type": "code",
   "execution_count": null,
   "id": "b7da9fdb",
   "metadata": {},
   "outputs": [],
   "source": [
    "# calculate average price of each neighbourhood\n",
    "airbnbList1.groupby('neighbourhood_cleansed').mean().sort_values('price', ascending = False)[['price']]"
   ]
  },
  {
   "cell_type": "code",
   "execution_count": null,
   "id": "36a5f7a5",
   "metadata": {},
   "outputs": [],
   "source": [
    "# calculate the number of unique of listings in each neighbourhood\n",
    "airbnbList1.groupby('neighbourhood_cleansed').agg({\"id\": \"nunique\"}).sort_values('id', ascending = False)"
   ]
  },
  {
   "cell_type": "code",
   "execution_count": null,
   "id": "56cbf51c",
   "metadata": {},
   "outputs": [],
   "source": [
    "# function to calculate the count of assigned proporty type for each neighborhood\n",
    "def getPropNum(property_type):\n",
    "    '''\n",
    "    INPUT:\n",
    "    property_type - the name of property type you want to analyze\n",
    "    \n",
    "    OUTPUT:\n",
    "    count - a table with the count of proporty type for each neighborhood\n",
    "    '''\n",
    "    airbnbList1Filtered = airbnbList1.loc[airbnbList1['property_type'].isin([property_type])]\n",
    "    count = airbnbList1Filtered.groupby(['neighbourhood_cleansed']).count()[['id']]\n",
    "    count['neighbourhood_cleansed'] = count.index\n",
    "    count.reset_index(drop = True, inplace = True)\n",
    "    type_name = \"{}_count\".format(property_type)\n",
    "    count.rename({'id': type_name}, axis = 1, inplace = True)\n",
    "    return(count)"
   ]
  },
  {
   "cell_type": "code",
   "execution_count": null,
   "id": "2ca97222",
   "metadata": {},
   "outputs": [],
   "source": [
    "# get the number of house for each neighbourhood\n",
    "houseCount = getPropNum(\"House\")\n",
    "print(houseCount)"
   ]
  },
  {
   "cell_type": "code",
   "execution_count": null,
   "id": "c7c1b522",
   "metadata": {},
   "outputs": [],
   "source": [
    "# get the number of apartment for each neighbourhood\n",
    "aptCount = getPropNum(\"Apartment\")\n",
    "print(aptCount)"
   ]
  },
  {
   "cell_type": "markdown",
   "id": "f8ccf95d",
   "metadata": {},
   "source": [
    "## Visualization"
   ]
  },
  {
   "cell_type": "markdown",
   "id": "1810b51e",
   "metadata": {},
   "source": [
    "### Seattle"
   ]
  },
  {
   "cell_type": "code",
   "execution_count": null,
   "id": "93a3f68a",
   "metadata": {},
   "outputs": [],
   "source": [
    "# plot the number of house and apartment in Seattle neighbourhoods\n",
    "dfPlotSeattle = houseCountSeattle.merge(aptCountSeattle, how = \"outer\", on = \"neighbourhood_cleansed\")\n",
    "dfPlotSeattle.plot(x = 'neighbourhood_cleansed', kind = 'bar', stacked = True)\n",
    "plt.xlabel(\"Count of Listings\")\n",
    "plt.ylabel(\"Neighbourhood Group\")\n",
    "plt.legend([\"Number of House\", \"Number of Apartment\"])\n",
    "plt.title(\"Number of House and Apartment in Seattle Neighbourhoods\");"
   ]
  },
  {
   "cell_type": "code",
   "execution_count": null,
   "id": "6066cf97",
   "metadata": {
    "scrolled": false
   },
   "outputs": [],
   "source": [
    "# sort dataframe by number of listings in descending order\n",
    "dfPlotSeattle = houseCountSeattle.merge(aptCountSeattle, how = \"outer\", on = \"neighbourhood_cleansed\")\n",
    "\n",
    "# plot first 44 neighborhoods\n",
    "dfPlotSeattle[:44].plot(x = 'neighbourhood_cleansed', kind = 'bar', stacked = True)\n",
    "plt.xlabel(\"Neighbourhood Group\")\n",
    "plt.ylabel(\"Count of Listings\")\n",
    "plt.legend([\"Number of House\", \"Number of Apartment\"])\n",
    "plt.title(\"Number of House and Apartment in Zoom Seattle Neighbourhoods\");"
   ]
  },
  {
   "cell_type": "code",
   "execution_count": null,
   "id": "6deff827",
   "metadata": {},
   "outputs": [],
   "source": [
    "# plot last 44 neighborhoods\n",
    "dfPlotSeattle[-44:].plot(x = 'neighbourhood_cleansed', kind = 'bar', stacked = True)\n",
    "plt.xlabel(\"Neighbourhood Group\")\n",
    "plt.ylabel(\"Count of Listings\")\n",
    "plt.legend([\"Number of House\", \"Number of Apartment\"])\n",
    "plt.title(\"Number of House and Apartment in Zoom Seattle Neighbourhoods\");"
   ]
  },
  {
   "cell_type": "markdown",
   "id": "cf372f30",
   "metadata": {},
   "source": [
    "### Boston"
   ]
  },
  {
   "cell_type": "code",
   "execution_count": null,
   "id": "c76f238c",
   "metadata": {},
   "outputs": [],
   "source": [
    "# plot the number of house and apartment in Boston neighbourhoods\n",
    "dfPlotBoston = houseCountBoston.merge(aptCountBoston, how = \"outer\", on = \"neighbourhood_cleansed\")\n",
    "dfPlotBoston.plot(x = 'neighbourhood_cleansed', kind = 'bar', stacked = True)\n",
    "plt.xlabel(\"Count of Listings\")\n",
    "plt.ylabel(\"Neighbourhood Group\")\n",
    "plt.legend([\"Number of House\", \"Number of Apartment\"])\n",
    "plt.title(\"Number of House and Apartment in Boston Neighbourhoods\");"
   ]
  },
  {
   "cell_type": "markdown",
   "id": "06e05392",
   "metadata": {},
   "source": [
    "### Overall"
   ]
  },
  {
   "cell_type": "code",
   "execution_count": null,
   "id": "ca758a86",
   "metadata": {},
   "outputs": [],
   "source": [
    "# plot the number of house and apartment in Boston neighbourhoods\n",
    "dfPlot = houseCount.merge(aptCount, how = \"outer\", on = \"neighbourhood_cleansed\")\n",
    "dfPlot = dfPlot[(dfPlot['House_count'] >= 5) & (dfPlot['Apartment_count'] >= 10)]\n",
    "dfPlot.plot(x = 'neighbourhood_cleansed', kind = 'bar', stacked = True)\n",
    "plt.xlabel(\"Count of Listings\")\n",
    "plt.ylabel(\"Neighbourhood Group\")\n",
    "plt.legend([\"Number of House\", \"Number of Apartment\"])\n",
    "plt.title(\"Number of House and Apartment in Boston & Seattle Neighbourhoods\");"
   ]
  },
  {
   "cell_type": "markdown",
   "id": "3b4f0534",
   "metadata": {},
   "source": [
    "# Main factors that affect the price of an airbnb"
   ]
  },
  {
   "cell_type": "markdown",
   "id": "2e5039ea",
   "metadata": {},
   "source": [
    "## Clean"
   ]
  },
  {
   "cell_type": "markdown",
   "id": "cc5b2ea0",
   "metadata": {},
   "source": [
    "### Seattle"
   ]
  },
  {
   "cell_type": "code",
   "execution_count": null,
   "id": "d279343e",
   "metadata": {},
   "outputs": [],
   "source": [
    "# Generate correlation heatmap\n",
    "seattleListModel = seattleList1.drop('id', axis=1)\n",
    "sns.heatmap(seattleListModel.corr())"
   ]
  },
  {
   "cell_type": "code",
   "execution_count": null,
   "id": "d3ce05d2",
   "metadata": {},
   "outputs": [],
   "source": [
    "# Check for missing values in price\n",
    "seattleListModel['price'].isnull().value_counts()"
   ]
  },
  {
   "cell_type": "code",
   "execution_count": null,
   "id": "e6367b2a",
   "metadata": {},
   "outputs": [],
   "source": [
    "seattleListModel.isnull().sum()"
   ]
  },
  {
   "cell_type": "code",
   "execution_count": null,
   "id": "480585ac",
   "metadata": {},
   "outputs": [],
   "source": [
    "# Drop review_scores_value\n",
    "seattleListModel.drop('review_scores_value', axis=1, inplace=True)"
   ]
  },
  {
   "cell_type": "code",
   "execution_count": null,
   "id": "a9b5996e",
   "metadata": {},
   "outputs": [],
   "source": [
    "# Impute other columns\n",
    "fillByMode = lambda col: col.fillna(col.mode()[0])\n",
    "listingModelFillSeattle = seattleListModel.apply(fillByMode)"
   ]
  },
  {
   "cell_type": "code",
   "execution_count": null,
   "id": "2f5083ae",
   "metadata": {},
   "outputs": [],
   "source": [
    "listingModelFillSeattle.isnull().sum()"
   ]
  },
  {
   "cell_type": "code",
   "execution_count": null,
   "id": "91252465",
   "metadata": {},
   "outputs": [],
   "source": [
    "# Generate dummy variables for cat variables\n",
    "listingModelDummySeattle = pd.get_dummies(listingModelFillSeattle, drop_first = True)\n",
    "listingModelDummySeattle"
   ]
  },
  {
   "cell_type": "markdown",
   "id": "17a8c987",
   "metadata": {},
   "source": [
    "### Boston"
   ]
  },
  {
   "cell_type": "code",
   "execution_count": null,
   "id": "ffb07d4b",
   "metadata": {},
   "outputs": [],
   "source": [
    "# Generate correlation heatmap\n",
    "bostonListModel = bostonList1.drop('id', axis=1)\n",
    "sns.heatmap(bostonListModel.corr())"
   ]
  },
  {
   "cell_type": "code",
   "execution_count": null,
   "id": "9176fc25",
   "metadata": {},
   "outputs": [],
   "source": [
    "# Check for missing values in price\n",
    "bostonListModel['price'].isnull().value_counts()"
   ]
  },
  {
   "cell_type": "code",
   "execution_count": null,
   "id": "3fd10cd8",
   "metadata": {},
   "outputs": [],
   "source": [
    "bostonListModel.isnull().sum()"
   ]
  },
  {
   "cell_type": "code",
   "execution_count": null,
   "id": "5c1d0684",
   "metadata": {},
   "outputs": [],
   "source": [
    "# Drop review_scores_value\n",
    "bostonListModel.drop('review_scores_value', axis=1, inplace=True)"
   ]
  },
  {
   "cell_type": "code",
   "execution_count": null,
   "id": "69598593",
   "metadata": {},
   "outputs": [],
   "source": [
    "# Impute other columns\n",
    "fillByModeBoston = lambda col: col.fillna(col.mode()[0])\n",
    "listingModelFillBoston = bostonListModel.apply(fillByModeBoston)"
   ]
  },
  {
   "cell_type": "code",
   "execution_count": null,
   "id": "0472504e",
   "metadata": {},
   "outputs": [],
   "source": [
    "# check to make sure there is no missing value\n",
    "listingModelFillBoston.isnull().sum()"
   ]
  },
  {
   "cell_type": "code",
   "execution_count": null,
   "id": "7d74a0c3",
   "metadata": {},
   "outputs": [],
   "source": [
    "# Generate dummy variables for cat variables\n",
    "listingModelDummyBoston = pd.get_dummies(listingModelFillBoston, drop_first = True)\n",
    "listingModelDummyBoston"
   ]
  },
  {
   "cell_type": "markdown",
   "id": "c3ca190f",
   "metadata": {},
   "source": [
    "### Overall"
   ]
  },
  {
   "cell_type": "code",
   "execution_count": null,
   "id": "8393e32b",
   "metadata": {},
   "outputs": [],
   "source": [
    "# Generate correlation heatmap\n",
    "airbnbListModel = airbnbList1.drop('id', axis=1)\n",
    "sns.heatmap(airbnbListModel.corr())"
   ]
  },
  {
   "cell_type": "code",
   "execution_count": null,
   "id": "dceee3e4",
   "metadata": {},
   "outputs": [],
   "source": [
    "# Check for missing values in price\n",
    "airbnbListModel['price'].isnull().value_counts()"
   ]
  },
  {
   "cell_type": "code",
   "execution_count": null,
   "id": "776a73b4",
   "metadata": {},
   "outputs": [],
   "source": [
    "airbnbListModel.isnull().sum()"
   ]
  },
  {
   "cell_type": "code",
   "execution_count": null,
   "id": "3fa79a66",
   "metadata": {},
   "outputs": [],
   "source": [
    "# Drop review_scores_value\n",
    "airbnbListModel.drop('review_scores_value', axis=1, inplace=True)"
   ]
  },
  {
   "cell_type": "code",
   "execution_count": null,
   "id": "e8c1b258",
   "metadata": {},
   "outputs": [],
   "source": [
    "# Impute other columns\n",
    "fillByModeAirbnb = lambda col: col.fillna(col.mode()[0])\n",
    "listingModelFillAirbnb = airbnbListModel.apply(fillByModeAirbnb)"
   ]
  },
  {
   "cell_type": "code",
   "execution_count": null,
   "id": "f572c250",
   "metadata": {},
   "outputs": [],
   "source": [
    "# check to make sure there is no missing value\n",
    "listingModelFillAirbnb.isnull().sum()"
   ]
  },
  {
   "cell_type": "code",
   "execution_count": null,
   "id": "583f85c8",
   "metadata": {},
   "outputs": [],
   "source": [
    "# Generate dummy variables for cat variables\n",
    "listingModelDummyAirbnb = pd.get_dummies(listingModelFillAirbnb, drop_first = True)\n",
    "listingModelDummyAirbnb"
   ]
  },
  {
   "cell_type": "markdown",
   "id": "cccdf8e7",
   "metadata": {},
   "source": [
    "## Model"
   ]
  },
  {
   "cell_type": "markdown",
   "id": "0034453a",
   "metadata": {},
   "source": [
    "### Seattle"
   ]
  },
  {
   "cell_type": "code",
   "execution_count": null,
   "id": "03a26a6e",
   "metadata": {},
   "outputs": [],
   "source": [
    "# split training and test data\n",
    "y_seattle = listingModelDummySeattle['price']\n",
    "x_seattle = listingModelDummySeattle.drop('price', axis = 1)"
   ]
  },
  {
   "cell_type": "code",
   "execution_count": null,
   "id": "72c80976",
   "metadata": {},
   "outputs": [],
   "source": [
    "# fit a random forest model\n",
    "modelSeattle = RandomForestRegressor(n_estimators = 500, criterion = 'mse', random_state = 1, n_jobs = -1)\n",
    "modelSeattle.fit(x_seattle, y_seattle)"
   ]
  },
  {
   "cell_type": "code",
   "execution_count": null,
   "id": "11cde1ce",
   "metadata": {},
   "outputs": [],
   "source": [
    "# plot feature importance by variable\n",
    "featImpSeattle = pd.Series(modelSeattle.feature_importances_, index=x_seattle.columns).sort_values()\n",
    "featImpSeattle.nlargest(10).plot(kind = 'barh')"
   ]
  },
  {
   "cell_type": "markdown",
   "id": "55a7bdc2",
   "metadata": {},
   "source": [
    "### Boston"
   ]
  },
  {
   "cell_type": "code",
   "execution_count": null,
   "id": "50c13dd4",
   "metadata": {},
   "outputs": [],
   "source": [
    "# split training and test data\n",
    "y_boston = listingModelDummyBoston['price']\n",
    "x_boston = listingModelDummyBoston.drop('price', axis = 1)"
   ]
  },
  {
   "cell_type": "code",
   "execution_count": null,
   "id": "d5f75852",
   "metadata": {},
   "outputs": [],
   "source": [
    "# fit a random forest model\n",
    "modelBoston = RandomForestRegressor(n_estimators = 500, criterion = 'mse', random_state = 1, n_jobs = -1)\n",
    "modelBoston.fit(x_boston, y_boston)"
   ]
  },
  {
   "cell_type": "code",
   "execution_count": null,
   "id": "5c9ad6fb",
   "metadata": {},
   "outputs": [],
   "source": [
    "# plot feature importance by variable\n",
    "featImpBoston = pd.Series(modelBoston.feature_importances_, index=x_boston.columns).sort_values()\n",
    "featImpBoston.nlargest(10).plot(kind = 'barh')"
   ]
  },
  {
   "cell_type": "markdown",
   "id": "89bcdeec",
   "metadata": {},
   "source": [
    "### Overall"
   ]
  },
  {
   "cell_type": "code",
   "execution_count": null,
   "id": "5287b355",
   "metadata": {},
   "outputs": [],
   "source": [
    "# split training and test data\n",
    "y_airbnb = listingModelDummyAirbnb['price']\n",
    "x_airbnb = listingModelDummyAirbnb.drop('price', axis = 1)"
   ]
  },
  {
   "cell_type": "code",
   "execution_count": null,
   "id": "99c8b3d5",
   "metadata": {},
   "outputs": [],
   "source": [
    "# fit a random forest model\n",
    "modelAirbnb = RandomForestRegressor(n_estimators = 500, criterion = 'mse', random_state = 1, n_jobs = -1)\n",
    "modelAirbnb.fit(x_airbnb, y_airbnb)"
   ]
  },
  {
   "cell_type": "code",
   "execution_count": null,
   "id": "e95c1617",
   "metadata": {},
   "outputs": [],
   "source": [
    "# plot feature importance by variable\n",
    "featImpAirbnb = pd.Series(modelAirbnb.feature_importances_, index=x_airbnb.columns).sort_values()\n",
    "featImpAirbnb.nlargest(10).plot(kind = 'barh')"
   ]
  },
  {
   "cell_type": "markdown",
   "id": "74f8a466",
   "metadata": {},
   "source": [
    "## Export Data for Tableau"
   ]
  },
  {
   "cell_type": "markdown",
   "id": "b6cdca12",
   "metadata": {},
   "source": [
    "### Seattle"
   ]
  },
  {
   "cell_type": "code",
   "execution_count": null,
   "id": "5580c690",
   "metadata": {},
   "outputs": [],
   "source": [
    "# Create path\n",
    "file_path = Path('resources/data/')\n",
    "\n",
    "# Export data\n",
    "airbnbRev.to_csv('resources/data/overall_reviews.csv', index=False)\n",
    "airbnbList.to_csv('resources/data/overall_listings.csv', index=False)\n",
    "airbnbCal.to_csv('resources/data/overall_calendar.csv', index=False)"
   ]
  },
  {
   "cell_type": "code",
   "execution_count": null,
   "id": "e8962d5d",
   "metadata": {},
   "outputs": [],
   "source": []
  }
 ],
 "metadata": {
  "kernelspec": {
   "display_name": "mlenv",
   "language": "python",
   "name": "mlenv"
  },
  "language_info": {
   "codemirror_mode": {
    "name": "ipython",
    "version": 3
   },
   "file_extension": ".py",
   "mimetype": "text/x-python",
   "name": "python",
   "nbconvert_exporter": "python",
   "pygments_lexer": "ipython3",
   "version": "3.7.15"
  }
 },
 "nbformat": 4,
 "nbformat_minor": 5
}
